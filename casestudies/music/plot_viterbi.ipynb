{
 "cells": [
  {
   "cell_type": "code",
   "execution_count": null,
   "metadata": {
    "collapsed": false,
    "jupyter": {
     "outputs_hidden": false
    }
   },
   "outputs": [],
   "source": [
    "%matplotlib inline"
   ]
  },
  {
   "cell_type": "markdown",
   "metadata": {},
   "source": [
    "\n",
    "# Viterbi decoding\n",
    "\n",
    "\n",
    "This notebook demonstrates how to use Viterbi decoding to impose temporal\n",
    "smoothing on frame-wise state predictions.\n",
    "\n",
    "Our working example will be the problem of silence/non-silence detection.\n",
    "\n"
   ]
  },
  {
   "cell_type": "code",
   "execution_count": null,
   "metadata": {
    "collapsed": false,
    "jupyter": {
     "outputs_hidden": false
    }
   },
   "outputs": [],
   "source": [
    "# Code source: Brian McFee\n",
    "# License: ISC\n",
    "\n",
    "##################\n",
    "# Standard imports\n",
    "from __future__ import print_function\n",
    "import numpy as np\n",
    "import matplotlib.pyplot as plt\n",
    "import librosa\n",
    "\n",
    "import librosa.display"
   ]
  },
  {
   "cell_type": "markdown",
   "metadata": {},
   "source": [
    "Load an example signal\n",
    "\n"
   ]
  },
  {
   "cell_type": "code",
   "execution_count": null,
   "metadata": {},
   "outputs": [],
   "source": [
    "filename = librosa.util.example_audio_file()"
   ]
  },
  {
   "cell_type": "code",
   "execution_count": null,
   "metadata": {
    "collapsed": false,
    "jupyter": {
     "outputs_hidden": false
    }
   },
   "outputs": [],
   "source": [
    "y, sr = librosa.load(filename)\n",
    "\n",
    "\n",
    "# And compute the spectrogram magnitude and phase\n",
    "S_full, phase = librosa.magphase(librosa.stft(y))\n",
    "\n",
    "\n",
    "###################\n",
    "# Plot the spectrum\n",
    "plt.figure(figsize=(12, 4))\n",
    "librosa.display.specshow(librosa.amplitude_to_db(S_full, ref=np.max),\n",
    "                         y_axis='log', x_axis='time', sr=sr)\n",
    "plt.colorbar()\n",
    "plt.tight_layout()"
   ]
  },
  {
   "cell_type": "markdown",
   "metadata": {},
   "source": [
    "As you can see, there are periods of silence and\n",
    "non-silence throughout this recording.\n",
    "\n",
    "\n"
   ]
  },
  {
   "cell_type": "code",
   "execution_count": null,
   "metadata": {
    "collapsed": false,
    "jupyter": {
     "outputs_hidden": false
    }
   },
   "outputs": [],
   "source": [
    "# As a first step, we can plot the root-mean-square (RMS) curve\n",
    "rms = librosa.feature.rms(y=y)[0]\n",
    "\n",
    "times = librosa.frames_to_time(np.arange(len(rms)))\n",
    "\n",
    "plt.figure(figsize=(12, 4))\n",
    "plt.plot(times, rms)\n",
    "plt.axhline(0.02, color='r', alpha=0.5)\n",
    "plt.xlabel('Time')\n",
    "plt.ylabel('RMS')\n",
    "plt.axis('tight')\n",
    "plt.tight_layout()\n",
    "\n",
    "# The red line at 0.02 indicates a reasonable threshold for silence detection.\n",
    "# However, the RMS curve occasionally dips below the threshold momentarily,\n",
    "# and we would prefer the detector to not count these brief dips as silence.\n",
    "# This is where the Viterbi algorithm comes in handy!"
   ]
  },
  {
   "cell_type": "markdown",
   "metadata": {},
   "source": [
    "As a first step, we will convert the raw RMS score\n",
    "into a likelihood (probability) by logistic mapping\n",
    "\n",
    "  $P[V=1 | x] = \\frac{\\exp(x - \\tau)}{1 + \\exp(x - \\tau)}$\n",
    "\n",
    "where $x$ denotes the RMS value and $\\tau=0.02$ is our threshold.\n",
    "The variable $V$ indicates whether the signal is non-silent (1) or silent (0).\n",
    "\n",
    "We'll normalize the RMS by its standard deviation to expand the\n",
    "range of the probability vector\n",
    "\n"
   ]
  },
  {
   "cell_type": "code",
   "execution_count": null,
   "metadata": {
    "collapsed": false,
    "jupyter": {
     "outputs_hidden": false
    }
   },
   "outputs": [],
   "source": [
    "r_normalized = (rms - 0.02) / np.std(rms)\n",
    "p = np.exp(r_normalized) / (1 + np.exp(r_normalized))\n",
    "\n",
    "# We can plot the probability curve over time:\n",
    "\n",
    "plt.figure(figsize=(12, 4))\n",
    "plt.plot(times, p, label='P[V=1|x]')\n",
    "plt.axhline(0.5, color='r', alpha=0.5, label='Descision threshold')\n",
    "plt.xlabel('Time')\n",
    "plt.axis('tight')\n",
    "plt.legend()\n",
    "plt.tight_layout()"
   ]
  },
  {
   "cell_type": "markdown",
   "metadata": {},
   "source": [
    "which looks much like the first plot, but with the decision threshold\n",
    "shifted to 0.5.  A simple silence detector would classify each frame\n",
    "independently of its neighbors, which would result in the following plot:\n",
    "\n"
   ]
  },
  {
   "cell_type": "code",
   "execution_count": null,
   "metadata": {
    "collapsed": false,
    "jupyter": {
     "outputs_hidden": false
    }
   },
   "outputs": [],
   "source": [
    "plt.figure(figsize=(12, 6))\n",
    "ax = plt.subplot(2,1,1)\n",
    "librosa.display.specshow(librosa.amplitude_to_db(S_full, ref=np.max),\n",
    "                         y_axis='log', x_axis='time', sr=sr)\n",
    "plt.subplot(2,1,2, sharex=ax)\n",
    "plt.step(times, p>=0.5, label='Non-silent')\n",
    "plt.xlabel('Time')\n",
    "plt.axis('tight')\n",
    "plt.ylim([0, 1.05])\n",
    "plt.legend()\n",
    "plt.tight_layout()"
   ]
  },
  {
   "cell_type": "markdown",
   "metadata": {},
   "source": [
    "We can do better using the Viterbi algorithm.\n",
    "We'll use state 0 to indicate silent, and 1 to indicate non-silent.\n",
    "We'll assume that a silent frame is equally likely to be followed\n",
    "by silence or non-silence, but that non-silence is slightly\n",
    "more likely to be followed by non-silence.\n",
    "This is accomplished by building a self-loop transition matrix,\n",
    "where `transition[i, j]` is the probability of moving from state\n",
    "`i` to state `j` in the next frame.\n",
    "\n"
   ]
  },
  {
   "cell_type": "code",
   "execution_count": null,
   "metadata": {
    "collapsed": false,
    "jupyter": {
     "outputs_hidden": false
    }
   },
   "outputs": [],
   "source": [
    "transition = librosa.sequence.transition_loop(2, [0.5, 0.6])\n",
    "print(transition)"
   ]
  },
  {
   "cell_type": "markdown",
   "metadata": {},
   "source": [
    "Our `p` variable only indicates the probability of non-silence,\n",
    "so we need to also compute the probability of silence as its complement.\n",
    "\n"
   ]
  },
  {
   "cell_type": "code",
   "execution_count": null,
   "metadata": {
    "collapsed": false,
    "jupyter": {
     "outputs_hidden": false
    }
   },
   "outputs": [],
   "source": [
    "full_p = np.vstack([1 - p, p])\n",
    "print(full_p)"
   ]
  },
  {
   "cell_type": "markdown",
   "metadata": {},
   "source": [
    "Now, we're ready to decode!\n",
    "We'll use `viterbi_discriminative` here, since the inputs are\n",
    "state likelihoods conditional on data (in our case, data is rms).\n",
    "\n"
   ]
  },
  {
   "cell_type": "code",
   "execution_count": null,
   "metadata": {
    "collapsed": false,
    "jupyter": {
     "outputs_hidden": false
    }
   },
   "outputs": [],
   "source": [
    "states = librosa.sequence.viterbi_discriminative(full_p, transition)\n",
    "\n",
    "# sphinx_gallery_thumbnail_number = 5\n",
    "plt.figure(figsize=(12, 6))\n",
    "ax = plt.subplot(2,1,1)\n",
    "librosa.display.specshow(librosa.amplitude_to_db(S_full, ref=np.max),\n",
    "                         y_axis='log', x_axis='time', sr=sr)\n",
    "plt.xlabel('')\n",
    "ax.tick_params(labelbottom=False)\n",
    "plt.subplot(2, 1, 2, sharex=ax)\n",
    "plt.step(times, p>=0.5, label='Frame-wise')\n",
    "plt.step(times, states, linestyle='--', color='orange', label='Viterbi')\n",
    "plt.xlabel('Time')\n",
    "plt.axis('tight')\n",
    "plt.ylim([0, 1.05])\n",
    "plt.legend()"
   ]
  },
  {
   "cell_type": "markdown",
   "metadata": {},
   "source": [
    "Note how the Viterbi output has fewer state changes than the frame-wise\n",
    "predictor, and it is less sensitive to momentary dips in energy.\n",
    "This is controlled directly by the transition matrix.\n",
    "A higher self-transition probability means that the decoder is less\n",
    "likely to change states.\n",
    "\n"
   ]
  }
 ],
 "metadata": {
  "kernelspec": {
   "display_name": "conda_pytorch_p36",
   "language": "python",
   "name": "conda_pytorch_p36"
  },
  "language_info": {
   "codemirror_mode": {
    "name": "ipython",
    "version": 3
   },
   "file_extension": ".py",
   "mimetype": "text/x-python",
   "name": "python",
   "nbconvert_exporter": "python",
   "pygments_lexer": "ipython3",
   "version": "3.6.8"
  }
 },
 "nbformat": 4,
 "nbformat_minor": 4
}
