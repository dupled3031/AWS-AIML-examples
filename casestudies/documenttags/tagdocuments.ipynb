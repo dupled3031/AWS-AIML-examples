{
 "cells": [
  {
   "cell_type": "markdown",
   "metadata": {},
   "source": [
    "# Amazon Comprehend and Sagemaker Linear Leraning for document tag extraction\n",
    "\n",
    "This example shows how documents can be tagged trough a combination of Amazon Comprehend and Sagemaker Linear Learner models that does a further classification.\n",
    "\n",
    "The code here is for illusration purpuses. Furthe fine-tuning to the model can be done. The final part of the process around inference and tag extraction is well-suited for implemenation in Lambda "
   ]
  },
  {
   "cell_type": "code",
   "execution_count": 1,
   "metadata": {},
   "outputs": [],
   "source": [
    "import numpy as np\n",
    "import boto3\n",
    "import json\n",
    "import pandas as pd\n",
    "import time\n",
    "#from pandas.plotting import scatter_matrix\n",
    "import matplotlib.pyplot as plt\n",
    "import sagemaker\n",
    "from sagemaker.amazon.amazon_estimator import get_image_uri\n",
    "from sklearn.model_selection import train_test_split\n",
    "from sagemaker import get_execution_role\n",
    "import sagemaker.amazon.common as smac\n",
    "import io\n",
    "import os\n",
    "#from sagemaker.predictor import csv_serializer\n",
    "#from sagemaker.predictor import json_serializer, json_deserializer\n"
   ]
  },
  {
   "cell_type": "code",
   "execution_count": 2,
   "metadata": {},
   "outputs": [],
   "source": [
    "\n",
    "def createBucket(bucketname):\n",
    "    s3 = boto3.client('s3')\n",
    "    response = s3.list_buckets()\n",
    "    existingbuckets = [d['Name'] for d in response[\"Buckets\"]]\n",
    "    #print(existingbuckets)\n",
    "    if bucketname not in existingbuckets:\n",
    "        print(\"creating bucket \" + bucketname)\n",
    "        s3.create_bucket(Bucket=bucketname)\n",
    "    else:\n",
    "        print(\"bucket exists! \" + bucketname)"
   ]
  },
  {
   "cell_type": "markdown",
   "metadata": {},
   "source": [
    "### Create bucket if it does not exist"
   ]
  },
  {
   "cell_type": "code",
   "execution_count": 3,
   "metadata": {},
   "outputs": [
    {
     "name": "stdout",
     "output_type": "stream",
     "text": [
      "bucket exists! aimlbootcamp247322960887\n"
     ]
    }
   ],
   "source": [
    "accountid = boto3.client('sts').get_caller_identity().get('Account')\n",
    "bucketname = \"aimlbootcamp\" + accountid\n",
    "createBucket(bucketname)"
   ]
  },
  {
   "cell_type": "markdown",
   "metadata": {},
   "source": [
    "### Explore the training data set\n",
    "\n",
    "We started off with a small dataset (300 cases) of keyphrases that were classified as 'good' or or 'bad' keyphrases for tagging purposes. An example of a good phrase is 'artificial intelligence' while something like 'this year' is considered to be a poor tag choice.\n"
   ]
  },
  {
   "cell_type": "code",
   "execution_count": 4,
   "metadata": {},
   "outputs": [],
   "source": [
    "names = ['keyphrase', 'class']\n",
    "datain = pd.read_csv('keyphrase-classes.csv', names=names)\n"
   ]
  },
  {
   "cell_type": "code",
   "execution_count": 5,
   "metadata": {},
   "outputs": [
    {
     "name": "stdout",
     "output_type": "stream",
     "text": [
      "                 keyphrase  class\n",
      "0  artificial intelligence      1\n",
      "1         machine learning      1\n",
      "2                this year      0\n",
      "3    blockchain technology      1\n",
      "4                last year      0\n"
     ]
    }
   ],
   "source": [
    "print(datain.head())"
   ]
  },
  {
   "cell_type": "markdown",
   "metadata": {},
   "source": [
    "### Next we are doing an experiment\n",
    "\n",
    "Comprehend can evaluate a phrase like 'artificial intelligence' and determine what part of speech each word is.\n",
    "\n",
    "We are going to do this excercise on the entire tyraining dataset to count the occurences of Pronouns, Verb, Nouns, etc for each keyphrase.\n",
    "\n",
    "We are goping to then turn the counts for each part of speech into a vector. We are going to see if we can use this to predict whether a phrase makes a good tag or not."
   ]
  },
  {
   "cell_type": "code",
   "execution_count": 6,
   "metadata": {},
   "outputs": [],
   "source": [
    "def getSyntaxTokensFeatureVector(text, tagList = ['PRON', 'CONJ', 'NUM', 'VERB', 'ADP', 'DET', 'ADV', 'PART', 'PROPN', 'SYM', 'PUNCT', 'ADJ', 'AUX', 'NOUN', 'SCONJ']):\n",
    "    \n",
    "    tagDictionary = {} #creating a dictionary for fast lookup \n",
    "    for i in range(0,len(tagList)):\n",
    "        tagDictionary[tagList[i]] = i\n",
    "    #print(\"tagDictionary: \", tagDictionary)\n",
    "    \n",
    "    featureVector = np.zeros(len(tagList)) #create a vectot for the featurs\n",
    "    #print(\"featureVector: \", featureVector)\n",
    "    client = boto3.client('comprehend') \n",
    "    language = 'en'\n",
    "    response = client.detect_syntax(\n",
    "            Text=text,\n",
    "            LanguageCode=language\n",
    "        )    \n",
    "    #print(json.dumps(response, indent=2))\n",
    "    tags = \"\"\n",
    "    for SyntaxToken in response[\"SyntaxTokens\"]:\n",
    "        thisTag = SyntaxToken[\"PartOfSpeech\"][\"Tag\"]\n",
    "        thisScore = SyntaxToken[\"PartOfSpeech\"][\"Score\"]\n",
    "        if thisScore > 0.95 and thisTag in tagList: #only take ones we are at least 95% confident with and tags we are using as features\n",
    "            tags += \",\" + thisTag\n",
    "            index = tagDictionary[thisTag]\n",
    "            featureVector[index] = featureVector[index] + 1\n",
    "\n",
    "    #print(\"updated Feature Vector: \", featureVector)\n",
    "        \n",
    "    return tags, response, featureVector\n"
   ]
  },
  {
   "cell_type": "markdown",
   "metadata": {},
   "source": [
    "### We initialli started with a long list of parts of speech, but after plotting historgrams we only took the ones that showed variance.\n",
    "\n",
    "Here we do a little excercise in showing you what the parts of speech and the resulting vector looks like."
   ]
  },
  {
   "cell_type": "code",
   "execution_count": 7,
   "metadata": {},
   "outputs": [
    {
     "name": "stdout",
     "output_type": "stream",
     "text": [
      "tags:  ,DET,NOUN,CONJ,PUNCT,PUNCT,VERB,DET,NOUN,DET,NOUN,NOUN,PUNCT,PROPN,PUNCT,DET,ADJ,NOUN,DET,NOUN,VERB,DET,ADJ,NOUN,PUNCT,PUNCT,DET,NOUN,VERB,DET,NOUN,NUM,NOUN,PUNCT,PRON,VERB,ADJ,NUM,NUM,NOUN,DET,NOUN,PUNCT,NOUN,PUNCT,PRON,VERB,CONJ,NOUN,PUNCT,NOUN,VERB,VERB,CONJ,NOUN,PUNCT,ADJ,NOUN,NOUN,VERB,CONJ,NOUN,NOUN,PUNCT,DET,NOUN,CONJ,NOUN,VERB,DET,NOUN,PUNCT,DET,DET,NOUN,CONJ,NOUN,PUNCT,NUM,DET,ADJ,NOUN,VERB,DET,NOUN,PUNCT,NUM,PROPN,NOUN,VERB,VERB,ADJ,NOUN,VERB,NOUN,PUNCT,DET,PUNCT,DET,NOUN,PUNCT,DET,NOUN,CONJ,NOUN,PRON,NOUN,PUNCT,VERB,DET,NOUN,PUNCT,VERB,NUM,PUNCT,PROPN,CONJ,PROPN,PUNCT,NUM,NUM,CONJ,VERB,DET,NOUN,PUNCT,PRON,VERB,VERB,ADJ,NOUN,ADJ,NOUN,NOUN,PUNCT,NOUN,VERB,NOUN,PUNCT,DET,ADJ,NOUN,VERB,DET,NOUN,PUNCT,NOUN,NOUN,CONJ,NOUN,PUNCT,NOUN,CONJ,NOUN,VERB,NOUN,NOUN,PUNCT\n",
      "featurevector:  [ 4. 11.  8. 21. 22.  4.  0. 28.  9. 50.]\n"
     ]
    }
   ],
   "source": [
    "#tagList = ['PRON', 'CONJ', 'NUM', 'VERB', 'ADP', 'DET', 'ADV', 'PART', 'PROPN', 'SYM', 'PUNCT', 'ADJ', 'AUX', 'NOUN', 'SCONJ']\n",
    "tagList = ['PRON', 'CONJ', 'NUM', 'VERB', 'DET', 'PROPN', 'SYM', 'PUNCT', 'ADJ', 'NOUN']\n",
    "\n",
    "myText = \"The donkey or ass (Equus africanus asinus)[1][2] is a domesticated member of the horse family, Equidae. The wild ancestor of the donkey is the African wild ass, E. africanus. The donkey has been used as a working animal for at least 5000 years. There are more than 40 million donkeys in the world, mostly in underdeveloped countries, where they are used principally as draught or pack animals. Working donkeys are often associated with those living at or below subsistence levels. Small numbers of donkeys are kept for breeding or as pets in developed countries. A male donkey or ass is called a jack, a female a jenny or jennet;[3][4][5] a young donkey is a foal.[5] Jack donkeys are often used to mate with female horses to produce mules; the biological 'reciprocal' of a mule, from a stallion and jenny as its parents instead, is called a hinny. Asses were first domesticated around 3000 BC, probably in Egypt or Mesopotamia,[6][7] and have spread around the world. They continue to fill important roles in many places today. While domesticated species are increasing in numbers, the African wild ass is an endangered species. As beasts of burden and companions, asses and donkeys have worked together with humans for millennia.\"\n",
    "\n",
    "tags, response, featureVector = getSyntaxTokensFeatureVector(myText, tagList)\n",
    "print(\"tags: \", tags)\n",
    "print(\"featurevector: \", featureVector)"
   ]
  },
  {
   "cell_type": "markdown",
   "metadata": {},
   "source": [
    "### Here we try a more realistic example of what we would do on keyphrases"
   ]
  },
  {
   "cell_type": "code",
   "execution_count": 8,
   "metadata": {},
   "outputs": [
    {
     "name": "stdout",
     "output_type": "stream",
     "text": [
      "tags:  ,ADJ,NOUN\n",
      "featurevector:  [0. 0. 0. 0. 0. 0. 0. 0. 1. 1.]\n"
     ]
    }
   ],
   "source": [
    "myText = \"autonomous vehicles\"\n",
    "\n",
    "tags, response, featureVector = getSyntaxTokensFeatureVector(myText, tagList)\n",
    "print(\"tags: \", tags)\n",
    "print(\"featurevector: \", featureVector)"
   ]
  },
  {
   "cell_type": "markdown",
   "metadata": {},
   "source": [
    "### Let's run this on our entire training dataset\n",
    "\n",
    "So what we are doing to to calculate the feature vector for each observation and creating a dataset that will be ready for training."
   ]
  },
  {
   "cell_type": "code",
   "execution_count": 9,
   "metadata": {},
   "outputs": [],
   "source": [
    "dataset = None\n",
    "for index, row in datain.iterrows():\n",
    "    #print(row['keyphrase'], row['class'])\n",
    "    keyphrase = row['keyphrase']\n",
    "    thisclass = row['class']\n",
    "    tags, response, featureVector = getSyntaxTokensFeatureVector(keyphrase, tagList)\n",
    "    #print(keyphrase)\n",
    "    #print(\"features: \", featureVector)\n",
    "    thisRow = np.append(featureVector, thisclass)\n",
    "    if type(dataset) == type(None):\n",
    "        dataset = thisRow\n",
    "    else:\n",
    "        dataset = np.vstack((dataset,thisRow))\n",
    "\n",
    "\n",
    "\n",
    "   "
   ]
  },
  {
   "cell_type": "markdown",
   "metadata": {},
   "source": [
    "### Here we have a look at what the dataset looks like"
   ]
  },
  {
   "cell_type": "code",
   "execution_count": 10,
   "metadata": {},
   "outputs": [
    {
     "name": "stdout",
     "output_type": "stream",
     "text": [
      "data set:  [[0. 0. 0. ... 1. 1. 1.]\n",
      " [0. 0. 0. ... 0. 1. 1.]\n",
      " [0. 0. 0. ... 0. 1. 0.]\n",
      " ...\n",
      " [0. 0. 0. ... 1. 1. 1.]\n",
      " [0. 0. 0. ... 0. 0. 1.]\n",
      " [0. 0. 0. ... 0. 1. 0.]]\n",
      "dataset.shape:  (303, 11)\n",
      "303 11\n"
     ]
    }
   ],
   "source": [
    "print(\"data set: \", dataset)\n",
    "print(\"dataset.shape: \", dataset.shape) \n",
    "numrows, numcols = dataset.shape\n",
    "print(numrows, numcols)"
   ]
  },
  {
   "cell_type": "markdown",
   "metadata": {},
   "source": [
    "### We add the column names, split into train and test sets"
   ]
  },
  {
   "cell_type": "code",
   "execution_count": 11,
   "metadata": {},
   "outputs": [
    {
     "name": "stdout",
     "output_type": "stream",
     "text": [
      "tagList:  ['PRON', 'CONJ', 'NUM', 'VERB', 'DET', 'PROPN', 'SYM', 'PUNCT', 'ADJ', 'NOUN']\n",
      "colnames1:  ['PRON', 'CONJ', 'NUM', 'VERB', 'DET', 'PROPN', 'SYM', 'PUNCT', 'ADJ', 'NOUN']\n",
      "colnames:  ['PRON', 'CONJ', 'NUM', 'VERB', 'DET', 'PROPN', 'SYM', 'PUNCT', 'ADJ', 'NOUN', 'class']\n",
      "[[0. 0. 0. ... 0. 1. 1.]\n",
      " [0. 0. 0. ... 0. 0. 1.]\n",
      " [0. 0. 0. ... 0. 0. 1.]\n",
      " ...\n",
      " [0. 0. 0. ... 0. 1. 1.]\n",
      " [0. 0. 0. ... 0. 0. 0.]\n",
      " [0. 0. 0. ... 0. 0. 1.]]\n"
     ]
    }
   ],
   "source": [
    "# split into input (X) and output (y) variables\n",
    "print(\"tagList: \", tagList)\n",
    "X = dataset[:,0:numcols-1]\n",
    "y = dataset[:,numcols-1]\n",
    "colnames = list(tagList)\n",
    "print(\"colnames1: \", colnames)\n",
    "colnames.append(\"class\")\n",
    "\n",
    "print(\"colnames: \", colnames)\n",
    "data = pd.DataFrame(data=dataset)\n",
    "data.columns = colnames\n",
    "print(X)"
   ]
  },
  {
   "cell_type": "code",
   "execution_count": 12,
   "metadata": {},
   "outputs": [
    {
     "name": "stdout",
     "output_type": "stream",
     "text": [
      "X_train:  [[0. 0. 0. 0. 0. 0. 0. 0. 1. 1.]\n",
      " [0. 0. 0. 0. 0. 0. 0. 0. 1. 1.]\n",
      " [1. 0. 0. 0. 0. 0. 0. 0. 0. 1.]\n",
      " [0. 0. 0. 0. 0. 0. 0. 0. 0. 0.]\n",
      " [0. 0. 0. 0. 0. 0. 0. 0. 1. 1.]\n",
      " [0. 0. 0. 0. 1. 0. 0. 0. 0. 1.]\n",
      " [0. 0. 0. 0. 0. 0. 0. 0. 0. 1.]\n",
      " [0. 0. 0. 0. 0. 0. 0. 0. 0. 0.]\n",
      " [0. 0. 0. 0. 1. 0. 0. 0. 0. 1.]\n",
      " [0. 0. 0. 0. 0. 0. 0. 0. 1. 2.]]\n",
      "X_Test:  [[0. 0. 0. 0. 0. 0. 0. 0. 0. 0.]\n",
      " [0. 0. 0. 0. 1. 0. 0. 0. 0. 1.]\n",
      " [0. 0. 0. 0. 1. 0. 0. 0. 0. 1.]\n",
      " [1. 0. 0. 0. 0. 0. 0. 0. 0. 1.]\n",
      " [1. 0. 0. 0. 0. 0. 0. 0. 0. 1.]\n",
      " [0. 0. 0. 0. 0. 0. 0. 0. 1. 1.]\n",
      " [0. 0. 0. 0. 0. 0. 0. 0. 0. 2.]\n",
      " [0. 0. 0. 0. 0. 0. 0. 0. 0. 2.]\n",
      " [1. 0. 0. 0. 0. 0. 0. 0. 0. 1.]\n",
      " [0. 0. 0. 0. 0. 0. 0. 0. 0. 1.]]\n"
     ]
    }
   ],
   "source": [
    "X_train, X_test, y_train, y_test = train_test_split(X, y, test_size=0.33, random_state=42)\n",
    "print(\"X_train: \", X_train[:10])\n",
    "print(\"X_Test: \", X_test[:10])"
   ]
  },
  {
   "cell_type": "markdown",
   "metadata": {},
   "source": [
    "### We do some plots. The goal is to elimate some parts of speech that don't show variation.\n",
    "\n",
    "If anything needs to be added or removed, update the list *tagList* above\n"
   ]
  },
  {
   "cell_type": "code",
   "execution_count": 13,
   "metadata": {},
   "outputs": [
    {
     "data": {
      "image/png": "[encoded data removed]",
      "text/plain": [
       "<Figure size 720x720 with 12 Axes>"
      ]
     },
     "metadata": {},
     "output_type": "display_data"
    }
   ],
   "source": [
    "thisplot = data.hist(figsize=(10,10))"
   ]
  },
  {
   "cell_type": "markdown",
   "metadata": {},
   "source": [
    "### Next we write the train and test sets to S3 ready for our linear model"
   ]
  },
  {
   "cell_type": "code",
   "execution_count": 14,
   "metadata": {},
   "outputs": [],
   "source": [
    "prefix = \"document-tag-keyphrase-classifier\""
   ]
  },
  {
   "cell_type": "code",
   "execution_count": 15,
   "metadata": {},
   "outputs": [],
   "source": [
    "#numpy.savetxt(\"foo.csv\", a, delimiter=\",\")\n",
    "train_file = 'linear_train.data'\n",
    "\n",
    "f = io.BytesIO()\n",
    "smac.write_numpy_to_dense_tensor(f, X_train.astype('float32'), y_train.astype('float32'))\n",
    "f.seek(0)\n",
    "\n",
    "boto3.Session().resource('s3').Bucket(bucketname).Object(os.path.join(prefix, 'train', train_file)).upload_fileobj(f)\n"
   ]
  },
  {
   "cell_type": "code",
   "execution_count": 16,
   "metadata": {},
   "outputs": [],
   "source": [
    "validation_file = 'linear_validation.data'\n",
    "\n",
    "f = io.BytesIO()\n",
    "smac.write_numpy_to_dense_tensor(f, X_test.astype('float32'), y_test.astype('float32'))\n",
    "f.seek(0)\n",
    "\n",
    "#X_train, X_test, y_train, y_test\n",
    "\n",
    "boto3.Session().resource('s3').Bucket(bucketname).Object(os.path.join(prefix, 'validation', validation_file)).upload_fileobj(f)"
   ]
  },
  {
   "cell_type": "markdown",
   "metadata": {},
   "source": [
    "### We get ready to do training"
   ]
  },
  {
   "cell_type": "code",
   "execution_count": 17,
   "metadata": {},
   "outputs": [],
   "source": [
    "# See 'Algorithms Provided by Amazon SageMaker: Common Parameters' in the SageMaker documentation for an explanation of these values.\n",
    "\n",
    "container = get_image_uri(boto3.Session().region_name, 'linear-learner')"
   ]
  },
  {
   "cell_type": "code",
   "execution_count": 18,
   "metadata": {},
   "outputs": [
    {
     "name": "stdout",
     "output_type": "stream",
     "text": [
      "Job name is: DEMO-linear-2019-11-24-02-01-12\n"
     ]
    }
   ],
   "source": [
    "linear_job = 'DEMO-linear-' + time.strftime(\"%Y-%m-%d-%H-%M-%S\", time.gmtime())\n",
    "\n",
    "print(\"Job name is:\", linear_job)\n",
    "\n",
    "role = get_execution_role()\n",
    "\n",
    "linear_training_params = {\n",
    "    \"RoleArn\": role,\n",
    "    \"TrainingJobName\": linear_job,\n",
    "    \"AlgorithmSpecification\": {\n",
    "        \"TrainingImage\": container,\n",
    "        \"TrainingInputMode\": \"File\"\n",
    "    },\n",
    "    \"ResourceConfig\": {\n",
    "        \"InstanceCount\": 1,\n",
    "        \"InstanceType\": \"ml.c4.xlarge\",\n",
    "        \"VolumeSizeInGB\": 10\n",
    "    },\n",
    "    \"InputDataConfig\": [\n",
    "        {\n",
    "            \"ChannelName\": \"train\",\n",
    "            \"DataSource\": {\n",
    "                \"S3DataSource\": {\n",
    "                    \"S3DataType\": \"S3Prefix\",\n",
    "                    \"S3Uri\": \"s3://{}/{}/train/\".format(bucketname, prefix),\n",
    "                    \"S3DataDistributionType\": \"ShardedByS3Key\"\n",
    "                }\n",
    "            },\n",
    "            \"CompressionType\": \"None\",\n",
    "            \"RecordWrapperType\": \"None\"\n",
    "        },\n",
    "        {\n",
    "            \"ChannelName\": \"validation\",\n",
    "            \"DataSource\": {\n",
    "                \"S3DataSource\": {\n",
    "                    \"S3DataType\": \"S3Prefix\",\n",
    "                    \"S3Uri\": \"s3://{}/{}/validation/\".format(bucketname, prefix),\n",
    "                    \"S3DataDistributionType\": \"FullyReplicated\"\n",
    "                }\n",
    "            },\n",
    "            \"CompressionType\": \"None\",\n",
    "            \"RecordWrapperType\": \"None\"\n",
    "        }\n",
    "\n",
    "    ],\n",
    "    \"OutputDataConfig\": {\n",
    "        \"S3OutputPath\": \"s3://{}/{}/\".format(bucketname, prefix)\n",
    "    },\n",
    "    \"HyperParameters\": {\n",
    "        \"feature_dim\": str(numcols-1),\n",
    "        \"mini_batch_size\": \"100\",\n",
    "        \"predictor_type\": \"binary_classifier\",\n",
    "        \"epochs\": \"10\",\n",
    "        \"num_models\": \"32\",\n",
    "        \"loss\": \"absolute_loss\"\n",
    "    },\n",
    "    \"StoppingCondition\": {\n",
    "        \"MaxRuntimeInSeconds\": 60 * 60\n",
    "    }\n",
    "}"
   ]
  },
  {
   "cell_type": "markdown",
   "metadata": {},
   "source": [
    "### Kick off the training job. It should take about six minutes to complete"
   ]
  },
  {
   "cell_type": "code",
   "execution_count": 19,
   "metadata": {},
   "outputs": [
    {
     "name": "stdout",
     "output_type": "stream",
     "text": [
      "InProgress\n",
      "CPU times: user 79.6 ms, sys: 4 ms, total: 83.6 ms\n",
      "Wall time: 4min\n"
     ]
    }
   ],
   "source": [
    "%%time\n",
    "\n",
    "region = boto3.Session().region_name\n",
    "sm = boto3.client('sagemaker')\n",
    "\n",
    "sm.create_training_job(**linear_training_params)\n",
    "\n",
    "status = sm.describe_training_job(TrainingJobName=linear_job)['TrainingJobStatus']\n",
    "print(status)\n",
    "sm.get_waiter('training_job_completed_or_stopped').wait(TrainingJobName=linear_job)\n",
    "if status == 'Failed':\n",
    "    message = sm.describe_training_job(TrainingJobName=linear_job)['FailureReason']\n",
    "    print('Training failed with the following error: {}'.format(message))\n",
    "    raise Exception('Training job failed')"
   ]
  },
  {
   "cell_type": "markdown",
   "metadata": {},
   "source": [
    "### We create the model\n",
    "\n",
    "The artifacts would have been stored on S3 after training"
   ]
  },
  {
   "cell_type": "code",
   "execution_count": 20,
   "metadata": {},
   "outputs": [
    {
     "name": "stdout",
     "output_type": "stream",
     "text": [
      "model afrtifacts:  s3://aimlbootcamp247322960887/document-tag-keyphrase-classifier/DEMO-linear-2019-11-24-02-01-12/output/model.tar.gz\n"
     ]
    }
   ],
   "source": [
    "modelartifacts = sm.describe_training_job(TrainingJobName=linear_job)['ModelArtifacts']['S3ModelArtifacts']\n",
    "print(\"model afrtifacts: \", modelartifacts)"
   ]
  },
  {
   "cell_type": "code",
   "execution_count": 21,
   "metadata": {},
   "outputs": [
    {
     "name": "stdout",
     "output_type": "stream",
     "text": [
      "arn:aws:sagemaker:us-east-1:247322960887:model/demo-linear-2019-11-24-02-01-12\n"
     ]
    }
   ],
   "source": [
    "linear_hosting_container = {\n",
    "    'Image': container,\n",
    "    'ModelDataUrl': sm.describe_training_job(TrainingJobName=linear_job)['ModelArtifacts']['S3ModelArtifacts']\n",
    "}\n",
    "\n",
    "create_model_response = sm.create_model(\n",
    "    ModelName=linear_job,\n",
    "    ExecutionRoleArn=role,\n",
    "    PrimaryContainer=linear_hosting_container)\n",
    "\n",
    "print(create_model_response['ModelArn'])"
   ]
  },
  {
   "cell_type": "code",
   "execution_count": 22,
   "metadata": {},
   "outputs": [
    {
     "name": "stdout",
     "output_type": "stream",
     "text": [
      "DEMO-linear-endpoint-config-2019-11-24-02-05-12\n",
      "Endpoint Config Arn: arn:aws:sagemaker:us-east-1:247322960887:endpoint-config/demo-linear-endpoint-config-2019-11-24-02-05-12\n"
     ]
    }
   ],
   "source": [
    "linear_endpoint_config = 'DEMO-linear-endpoint-config-' + time.strftime(\"%Y-%m-%d-%H-%M-%S\", time.gmtime())\n",
    "print(linear_endpoint_config)\n",
    "create_endpoint_config_response = sm.create_endpoint_config(\n",
    "    EndpointConfigName=linear_endpoint_config,\n",
    "    ProductionVariants=[{\n",
    "        'InstanceType': 'ml.m5.large',\n",
    "        'InitialInstanceCount': 1,\n",
    "        'ModelName': linear_job,\n",
    "        'VariantName': 'AllTraffic'}])\n",
    "\n",
    "print(\"Endpoint Config Arn: \" + create_endpoint_config_response['EndpointConfigArn'])"
   ]
  },
  {
   "cell_type": "markdown",
   "metadata": {},
   "source": [
    "### We create an endpoint"
   ]
  },
  {
   "cell_type": "code",
   "execution_count": 23,
   "metadata": {},
   "outputs": [
    {
     "name": "stdout",
     "output_type": "stream",
     "text": [
      "DEMO-linear-endpoint-201911240205\n",
      "arn:aws:sagemaker:us-east-1:247322960887:endpoint/demo-linear-endpoint-201911240205\n",
      "Status: Creating\n",
      "Arn: arn:aws:sagemaker:us-east-1:247322960887:endpoint/demo-linear-endpoint-201911240205\n",
      "Status: InService\n",
      "CPU times: user 207 ms, sys: 4.8 ms, total: 212 ms\n",
      "Wall time: 7min 31s\n"
     ]
    }
   ],
   "source": [
    "%%time\n",
    "\n",
    "linear_endpoint = 'DEMO-linear-endpoint-' + time.strftime(\"%Y%m%d%H%M\", time.gmtime())\n",
    "print(linear_endpoint)\n",
    "create_endpoint_response = sm.create_endpoint(\n",
    "    EndpointName=linear_endpoint,\n",
    "    EndpointConfigName=linear_endpoint_config)\n",
    "print(create_endpoint_response['EndpointArn'])\n",
    "\n",
    "resp = sm.describe_endpoint(EndpointName=linear_endpoint)\n",
    "status = resp['EndpointStatus']\n",
    "print(\"Status: \" + status)\n",
    "\n",
    "sm.get_waiter('endpoint_in_service').wait(EndpointName=linear_endpoint)\n",
    "\n",
    "resp = sm.describe_endpoint(EndpointName=linear_endpoint)\n",
    "status = resp['EndpointStatus']\n",
    "print(\"Arn: \" + resp['EndpointArn'])\n",
    "print(\"Status: \" + status)\n",
    "\n",
    "if status != 'InService':\n",
    "    raise Exception('Endpoint creation did not succeed')"
   ]
  },
  {
   "cell_type": "markdown",
   "metadata": {},
   "source": [
    "### A little function to convert numpy arrays to CSV which is useful for invoking the endpoint"
   ]
  },
  {
   "cell_type": "code",
   "execution_count": 24,
   "metadata": {},
   "outputs": [],
   "source": [
    "def np2csv(arr):\n",
    "    csv = io.BytesIO()\n",
    "    np.savetxt(csv, arr, delimiter=',', fmt='%g')\n",
    "    return csv.getvalue().decode().rstrip()"
   ]
  },
  {
   "cell_type": "markdown",
   "metadata": {},
   "source": [
    "### We now do inference on the test data set by invoking the endpoint"
   ]
  },
  {
   "cell_type": "code",
   "execution_count": 25,
   "metadata": {},
   "outputs": [],
   "source": [
    "#X_train, X_test, y_train, y_test\n",
    "runtime= boto3.client('runtime.sagemaker')\n",
    "\n",
    "payload = np2csv(X_test)\n",
    "response = runtime.invoke_endpoint(EndpointName=linear_endpoint,\n",
    "                                   ContentType='text/csv',\n",
    "                                   Body=payload)\n",
    "result = json.loads(response['Body'].read().decode())\n",
    "test_pred = np.array([r['score'] for r in result['predictions']])"
   ]
  },
  {
   "cell_type": "code",
   "execution_count": 26,
   "metadata": {},
   "outputs": [
    {
     "name": "stdout",
     "output_type": "stream",
     "text": [
      "Test MAE Baseline : 0.51\n",
      "Test MAE Linear: 0.439\n"
     ]
    }
   ],
   "source": [
    "test_mae_linear = np.mean(np.abs(y_test - test_pred))\n",
    "test_mae_baseline = np.mean(np.abs(y_test - np.median(y_train))) ## training median as baseline predictor\n",
    "\n",
    "print(\"Test MAE Baseline :\", round(test_mae_baseline, 3))\n",
    "print(\"Test MAE Linear:\", round(test_mae_linear,3))"
   ]
  },
  {
   "cell_type": "markdown",
   "metadata": {},
   "source": [
    "### now we look at the accuracy.\n",
    "\n",
    "We still have some work to do to improve accuracy"
   ]
  },
  {
   "cell_type": "code",
   "execution_count": 27,
   "metadata": {},
   "outputs": [
    {
     "name": "stdout",
     "output_type": "stream",
     "text": [
      "Prediction Accuracy: 54.0 %\n",
      "Baseline Accuracy: 49.0 %\n"
     ]
    }
   ],
   "source": [
    "test_pred_class = (test_pred > 0.5)+0;\n",
    "test_pred_baseline = np.repeat(np.median(y_train), len(y_test))\n",
    "\n",
    "prediction_accuracy = np.mean((y_test== test_pred_class))*100\n",
    "baseline_accuracy = np.mean((y_test == test_pred_baseline))*100\n",
    "\n",
    "print(\"Prediction Accuracy:\", round(prediction_accuracy,1), \"%\")\n",
    "print(\"Baseline Accuracy:\", round(baseline_accuracy,1), \"%\")"
   ]
  },
  {
   "cell_type": "markdown",
   "metadata": {},
   "source": [
    "### Some functions to call Amazon Comprehend "
   ]
  },
  {
   "cell_type": "code",
   "execution_count": 28,
   "metadata": {},
   "outputs": [],
   "source": [
    "def detect_dominant_language(text):\n",
    "    client = boto3.client('comprehend')\n",
    "    response = client.detect_dominant_language(\n",
    "        Text=text\n",
    "    )    \n",
    "    language = response[\"Languages\"][0][\"LanguageCode\"]\n",
    "    #print(\"language: \", language )\n",
    "    #print(\"languages: \", response)\n",
    "    return language\n",
    "\n",
    "def detect_entities(text):\n",
    "    client = boto3.client('comprehend')\n",
    "    language = detect_dominant_language(text)\n",
    "    response = client.detect_entities(Text=text, LanguageCode=language)\n",
    "    #print(json.dumps(response, indent=2))\n",
    "    return response\n",
    "    #print(response)\n",
    "\n",
    "def detect_key_phrases(text):\n",
    "    client = boto3.client('comprehend') \n",
    "    language = detect_dominant_language(text)\n",
    "    response = client.detect_key_phrases(\n",
    "            Text=text,\n",
    "            LanguageCode=language\n",
    "        )    \n",
    "    #print(json.dumps(response, indent=2))\n",
    "    return response    \n",
    "    \n",
    "def detect_sentiment(text):\n",
    "    client = boto3.client('comprehend') \n",
    "    language = detect_dominant_language(text)\n",
    "    response = client.detect_sentiment(\n",
    "            Text=text,\n",
    "            LanguageCode=language\n",
    "        )    \n",
    "    #print(json.dumps(response, indent=2))\n",
    "    return response      \n",
    "\n",
    "def detect_syntax(text):\n",
    "    client = boto3.client('comprehend') \n",
    "    language = detect_dominant_language(text)\n",
    "    response = client.detect_syntax(\n",
    "            Text=text,\n",
    "            LanguageCode=language\n",
    "        )    \n",
    "    #print(json.dumps(response, indent=2))\n",
    "    return response\n",
    "    "
   ]
  },
  {
   "cell_type": "code",
   "execution_count": 29,
   "metadata": {},
   "outputs": [],
   "source": [
    "def makeCSVFormat(oneRowArray):\n",
    "    outputval = \"\"\n",
    "    for item in oneRowArray:\n",
    "        if outputval == \"\":\n",
    "            outputval = str(item)\n",
    "        else:\n",
    "            outputval += \",\" + str(item)\n",
    "    return outputval"
   ]
  },
  {
   "cell_type": "markdown",
   "metadata": {},
   "source": [
    "### Given some text and the model endpoint, this will give us a prediction if the text makes a good tag or not"
   ]
  },
  {
   "cell_type": "code",
   "execution_count": 30,
   "metadata": {},
   "outputs": [],
   "source": [
    "def predictIfRelevantPhrase(text, modelendpoint):\n",
    "    tags, response, featureVector = getSyntaxTokensFeatureVector(text, tagList)\n",
    "    csvformattedVal = makeCSVFormat(featureVector)\n",
    "    response = runtime.invoke_endpoint(EndpointName=modelendpoint,\n",
    "                                   ContentType='text/csv',\n",
    "                                   Body=csvformattedVal)\n",
    "\n",
    "    result = json.loads(response['Body'].read().decode())\n",
    "    score = result[\"predictions\"][0][\"score\"]\n",
    "    predictedLabel = result[\"predictions\"][0][\"predicted_label\"]\n",
    "    \n",
    "    print(\"result: \", result, \" ::: \", text)\n",
    "    return predictedLabel, score\n",
    "    "
   ]
  },
  {
   "cell_type": "markdown",
   "metadata": {},
   "source": [
    "### The main function to extract tags from documents\n",
    "\n",
    "It relies on Comprehend entity extraction. It only looks at some of the categories by ignoring categories that are prone to generating noise.\n",
    "For keyphrases we use our linear learner model to discard bad tags"
   ]
  },
  {
   "cell_type": "code",
   "execution_count": 31,
   "metadata": {},
   "outputs": [],
   "source": [
    "def getDocTags(document, modelendpoint):\n",
    "    entities = detect_entities(document)\n",
    "    myTags = []\n",
    "    for entity in entities[\"Entities\"]:\n",
    "        if entity[\"Type\"] in ['PERSON', 'LOCATION', 'ORGANIZATION', 'COMMERCIAL_ITEM', 'EVENT', 'QUANTITY', 'TITLE', 'OTHER']:\n",
    "            thisEntity = entity[\"Text\"]\n",
    "            myTags.append(thisEntity)\n",
    "    keyphrases = detect_key_phrases(document)\n",
    "    for keyphrase in keyphrases[\"KeyPhrases\"]:\n",
    "        thisPhrase = keyphrase[\"Text\"]\n",
    "        if thisPhrase not in myTags and \" \" in thisPhrase: #avoid double add. Only add multi-word items\n",
    "            prediction, score = predictIfRelevantPhrase(thisPhrase, modelendpoint)\n",
    "            if score > 0: #we can potentially adjust this value\n",
    "                myTags.append(thisPhrase)\n",
    "    return myTags"
   ]
  },
  {
   "cell_type": "code",
   "execution_count": 32,
   "metadata": {},
   "outputs": [
    {
     "name": "stdout",
     "output_type": "stream",
     "text": [
      "result:  {'predictions': [{'score': 0.7861346006393433, 'predicted_label': 1.0}]}  :::  The donkey or ass\n",
      "result:  {'predictions': [{'score': -0.0023279674351215363, 'predicted_label': 1.0}]}  :::  a domesticated member\n",
      "result:  {'predictions': [{'score': 0.08459353446960449, 'predicted_label': 1.0}]}  :::  the horse family\n",
      "result:  {'predictions': [{'score': 0.010069046169519424, 'predicted_label': 1.0}]}  :::  The wild ancestor\n",
      "result:  {'predictions': [{'score': -0.0023279674351215363, 'predicted_label': 1.0}]}  :::  the donkey\n",
      "result:  {'predictions': [{'score': 0.010069046169519424, 'predicted_label': 1.0}]}  :::  the African wild ass\n",
      "result:  {'predictions': [{'score': 0.03632922098040581, 'predicted_label': 1.0}]}  :::  E. africanus\n",
      "result:  {'predictions': [{'score': -0.0023279674351215363, 'predicted_label': 1.0}]}  :::  The donkey\n",
      "result:  {'predictions': [{'score': -0.0023279674351215363, 'predicted_label': 1.0}]}  :::  a working animal\n",
      "result:  {'predictions': [{'score': -0.0023279674351215363, 'predicted_label': 1.0}]}  :::  the world\n",
      "result:  {'predictions': [{'score': 0.12325072288513184, 'predicted_label': 1.0}]}  :::  underdeveloped countries\n",
      "result:  {'predictions': [{'score': 0.8247917890548706, 'predicted_label': 1.0}]}  :::  draught or pack animals\n",
      "result:  {'predictions': [{'score': 0.12325072288513184, 'predicted_label': 1.0}]}  :::  Working donkeys\n",
      "result:  {'predictions': [{'score': 0.12325072288513184, 'predicted_label': 1.0}]}  :::  subsistence levels\n",
      "result:  {'predictions': [{'score': 0.1356477290391922, 'predicted_label': 1.0}]}  :::  Small numbers\n",
      "result:  {'predictions': [{'score': 0.12325072288513184, 'predicted_label': 1.0}]}  :::  developed countries\n",
      "result:  {'predictions': [{'score': -0.0023279674351215363, 'predicted_label': 1.0}]}  :::  A male donkey\n",
      "result:  {'predictions': [{'score': -0.0023279674351215363, 'predicted_label': 1.0}]}  :::  a jack\n",
      "result:  {'predictions': [{'score': -0.08924946188926697, 'predicted_label': 0.0}]}  :::  a female\n",
      "result:  {'predictions': [{'score': -0.0023279674351215363, 'predicted_label': 1.0}]}  :::  a jenny\n",
      "result:  {'predictions': [{'score': 0.010069046169519424, 'predicted_label': 1.0}]}  :::  a young donkey\n",
      "result:  {'predictions': [{'score': -0.0023279674351215363, 'predicted_label': 1.0}]}  :::  a foal\n",
      "result:  {'predictions': [{'score': 0.8974912762641907, 'predicted_label': 1.0}]}  :::  [5] Jack donkeys\n",
      "result:  {'predictions': [{'score': 0.1356477290391922, 'predicted_label': 1.0}]}  :::  female horses\n",
      "result:  {'predictions': [{'score': -0.08924946188926697, 'predicted_label': 0.0}]}  :::  the biological\n",
      "result:  {'predictions': [{'score': -0.0023279674351215363, 'predicted_label': 1.0}]}  :::  a mule\n",
      "result:  {'predictions': [{'score': -0.0023279674351215363, 'predicted_label': 1.0}]}  :::  a stallion\n",
      "result:  {'predictions': [{'score': -0.012341681867837906, 'predicted_label': 0.0}]}  :::  its parents\n",
      "result:  {'predictions': [{'score': -0.0023279674351215363, 'predicted_label': 1.0}]}  :::  a hinny\n",
      "result:  {'predictions': [{'score': -0.09183347225189209, 'predicted_label': 0.0}]}  :::  3000 BC\n",
      "result:  {'predictions': [{'score': 2.5426769256591797, 'predicted_label': 1.0}]}  :::  Egypt or Mesopotamia\n",
      "result:  {'predictions': [{'score': -0.0023279674351215363, 'predicted_label': 1.0}]}  :::  the world\n",
      "result:  {'predictions': [{'score': 0.1356477290391922, 'predicted_label': 1.0}]}  :::  important roles\n",
      "result:  {'predictions': [{'score': 0.12325072288513184, 'predicted_label': 1.0}]}  :::  domesticated species\n",
      "result:  {'predictions': [{'score': -0.0023279674351215363, 'predicted_label': 1.0}]}  :::  an endangered species\n",
      "result:  {'predictions': [{'score': 1.6272882223129272, 'predicted_label': 1.0}]}  :::  burden and companions, asses and donkeys\n",
      "### TAGS ###:  ['Equus africanus asinus', '2', 'Equidae', 'African', 'africanus', 'at least 5000 years', 'more than 40 million donkeys', 'numbers', 'donkeys', 'first', 'Egypt', 'Mesopotamia', 'many places', 'African', 'millennia', 'The donkey or ass', 'the horse family', 'The wild ancestor', 'the African wild ass', 'E. africanus', 'underdeveloped countries', 'draught or pack animals', 'Working donkeys', 'subsistence levels', 'Small numbers', 'developed countries', 'a young donkey', '[5] Jack donkeys', 'female horses', 'Egypt or Mesopotamia', 'important roles', 'domesticated species', 'burden and companions, asses and donkeys']\n"
     ]
    }
   ],
   "source": [
    "myText = \"The donkey or ass (Equus africanus asinus)[1][2] is a domesticated member of the horse family, Equidae. The wild ancestor of the donkey is the African wild ass, E. africanus. The donkey has been used as a working animal for at least 5000 years. There are more than 40 million donkeys in the world, mostly in underdeveloped countries, where they are used principally as draught or pack animals. Working donkeys are often associated with those living at or below subsistence levels. Small numbers of donkeys are kept for breeding or as pets in developed countries. A male donkey or ass is called a jack, a female a jenny or jennet;[3][4][5] a young donkey is a foal.[5] Jack donkeys are often used to mate with female horses to produce mules; the biological 'reciprocal' of a mule, from a stallion and jenny as its parents instead, is called a hinny. Asses were first domesticated around 3000 BC, probably in Egypt or Mesopotamia,[6][7] and have spread around the world. They continue to fill important roles in many places today. While domesticated species are increasing in numbers, the African wild ass is an endangered species. As beasts of burden and companions, asses and donkeys have worked together with humans for millennia.\"\n",
    "myTags = getDocTags(myText, linear_endpoint)\n",
    "print(\"### TAGS ###: \",  myTags)"
   ]
  },
  {
   "cell_type": "markdown",
   "metadata": {},
   "source": [
    "### Import to delete the endpoint when done. Otherwise there are ongoing charges\n"
   ]
  },
  {
   "cell_type": "code",
   "execution_count": 33,
   "metadata": {},
   "outputs": [
    {
     "data": {
      "text/plain": [
       "{'ResponseMetadata': {'RequestId': '84ab0367-fb68-4dfa-a21d-ed7032b4c658',\n",
       "  'HTTPStatusCode': 200,\n",
       "  'HTTPHeaders': {'x-amzn-requestid': '84ab0367-fb68-4dfa-a21d-ed7032b4c658',\n",
       "   'content-type': 'application/x-amz-json-1.1',\n",
       "   'content-length': '0',\n",
       "   'date': 'Sun, 24 Nov 2019 02:12:48 GMT'},\n",
       "  'RetryAttempts': 0}}"
      ]
     },
     "execution_count": 33,
     "metadata": {},
     "output_type": "execute_result"
    }
   ],
   "source": [
    "sm.delete_endpoint(EndpointName=linear_endpoint)"
   ]
  },
  {
   "cell_type": "markdown",
   "metadata": {},
   "source": [
    "### Further implementation steps\n",
    "\n",
    "A the inference part can be implemented in a Lambda function which can then be easily integrated in a data pipeline. For example, when a document arrives in S3, the pipeline gets trigered which extracts the tags (combination of Comprehend entity extraction + Comprehend keyphrases + linear learner classifier). The resulting output can then be placed in S3, DynammDB, Neptune (for graphs) or in ElasticSearch.\n"
   ]
  },
  {
   "cell_type": "code",
   "execution_count": null,
   "metadata": {},
   "outputs": [],
   "source": []
  }
 ],
 "metadata": {
  "kernelspec": {
   "display_name": "conda_amazonei_tensorflow_p36",
   "language": "python",
   "name": "conda_amazonei_tensorflow_p36"
  },
  "language_info": {
   "codemirror_mode": {
    "name": "ipython",
    "version": 3
   },
   "file_extension": ".py",
   "mimetype": "text/x-python",
   "name": "python",
   "nbconvert_exporter": "python",
   "pygments_lexer": "ipython3",
   "version": "3.6.5"
  }
 },
 "nbformat": 4,
 "nbformat_minor": 4
}
