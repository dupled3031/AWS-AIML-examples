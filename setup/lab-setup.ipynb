{
 "cells": [
  {
   "cell_type": "code",
   "execution_count": 40,
   "metadata": {},
   "outputs": [],
   "source": [
    "import boto3\n",
    "accountid = boto3.client('sts').get_caller_identity().get('Account')\n",
    "bucketname = \"aimlbootcamp\" + accountid\n"
   ]
  },
  {
   "cell_type": "code",
   "execution_count": 46,
   "metadata": {},
   "outputs": [],
   "source": [
    "def createBucket(bucketname):\n",
    "    s3 = boto3.client('s3')\n",
    "    response = s3.list_buckets()\n",
    "    existingbuckets = [d['Name'] for d in response[\"Buckets\"]]\n",
    "    #print(existingbuckets)\n",
    "    if bucketname not in existingbuckets:\n",
    "        print(\"creating bucket \" + bucketname)\n",
    "        s3.create_bucket(Bucket=bucketname)\n",
    "    else:\n",
    "        print(\"bucket exists! \" + bucketname)"
   ]
  },
  {
   "cell_type": "code",
   "execution_count": 45,
   "metadata": {},
   "outputs": [
    {
     "name": "stdout",
     "output_type": "stream",
     "text": [
      "bucket exists! \n"
     ]
    }
   ],
   "source": [
    "createBucket(bucketname)"
   ]
  },
  {
   "cell_type": "code",
   "execution_count": 43,
   "metadata": {},
   "outputs": [
    {
     "name": "stdout",
     "output_type": "stream",
     "text": [
      "/home/ec2-user/SageMaker\n",
      "fatal: destination path 'AWS-AIML-examples' already exists and is not an empty directory.\n"
     ]
    }
   ],
   "source": [
    "!cd /home/ec2-user/SageMaker\n",
    "!pwd\n",
    "!git clone https://github.com/dupled3031/AWS-AIML-examples.git"
   ]
  },
  {
   "cell_type": "code",
   "execution_count": null,
   "metadata": {},
   "outputs": [],
   "source": []
  }
 ],
 "metadata": {
  "kernelspec": {
   "display_name": "conda_python3",
   "language": "python",
   "name": "conda_python3"
  },
  "language_info": {
   "codemirror_mode": {
    "name": "ipython",
    "version": 3
   },
   "file_extension": ".py",
   "mimetype": "text/x-python",
   "name": "python",
   "nbconvert_exporter": "python",
   "pygments_lexer": "ipython3",
   "version": "3.6.5"
  }
 },
 "nbformat": 4,
 "nbformat_minor": 2
}
